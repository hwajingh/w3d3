{
 "cells": [
  {
   "cell_type": "markdown",
   "id": "98120487",
   "metadata": {},
   "source": [
    "# APIs\n",
    "\n",
    "#### What are they and how do we use them\n",
    "\n",
    "<p> API stands for application programming interface - what an API actually does is provide a way for different servers, devices, and applications to send information back and forth in a commonly understood structure. </p>\n",
    "\n",
    "<p> So using an api, we can send data from an application written in one programming language to an application written in another programming language on a different server, and both applications can understand that data. </p>"
   ]
  },
  {
   "cell_type": "markdown",
   "id": "af83c4fc",
   "metadata": {},
   "source": [
    "<p> Its kind of like the kitchen in a restaurant -> they take the unprepared food items, chop them up, cook them, and lay them out nicely presented on a plate for the customers to consume as they please. </p>\n",
    "\n",
    "<p> APIs use data formats that can be understood by multiple programming languages -> the most common one we will use is called JSON data (JavaScript Object Notation) </p>"
   ]
  },
  {
   "cell_type": "code",
   "execution_count": 1,
   "id": "e1c03ba7",
   "metadata": {},
   "outputs": [],
   "source": [
    "import requests as r # often requests is imported under the alias r\n"
   ]
  },
  {
   "cell_type": "code",
   "execution_count": 2,
   "id": "87346346",
   "metadata": {},
   "outputs": [],
   "source": [
    "# Check Status Code"
   ]
  },
  {
   "cell_type": "code",
   "execution_count": 3,
   "id": "47d3536e",
   "metadata": {},
   "outputs": [],
   "source": [
    "# In-Class Exercise #1\n",
    "# From this API Endpoint: 'https://pokeapi.co/api/v2/pokemon/entei'\n",
    "# Access the string 'emerald' thats located somewhere within game_indices\n"
   ]
  },
  {
   "cell_type": "code",
   "execution_count": null,
   "id": "a34d01cc",
   "metadata": {},
   "outputs": [],
   "source": [
    "# What are the names of all of the Pokemon games that Entei is in?\n",
    "# I want a list of the names of every game Entei is in.\n",
    "\n",
    "# Well, if I can do it for one piece of the data,\n",
    "\n"
   ]
  },
  {
   "cell_type": "code",
   "execution_count": null,
   "id": "7d1f4f19",
   "metadata": {},
   "outputs": [],
   "source": [
    "# End goal structure for the basic version of the assignment:\n",
    "\n",
    "# Goal is to make 20 pokemon\n",
    "# Each pokemon is a dictionary\n",
    "\n",
    "\n",
    "\n",
    "# after you make all the individual pokemon\n",
    "# put them in a dictionary of lists based on type\n"
   ]
  },
  {
   "cell_type": "code",
   "execution_count": null,
   "id": "d7d487f3",
   "metadata": {},
   "outputs": [],
   "source": [
    "# remember that string concatenation is a thing and/or that f-strings work here\n"
   ]
  },
  {
   "cell_type": "code",
   "execution_count": null,
   "id": "9a29a682",
   "metadata": {},
   "outputs": [],
   "source": [
    "import requests as r\n",
    "# Instead of Making a Pokemon Dictionary, I want to make pokemon objects\n",
    "# I want to store those pokemon objects in a dictionary where the key is the pokemon's name\n",
    "# {\n",
    "# 'grovyle' : <pokemon_object for grovyle @ 0x304180sflk31sj>\n",
    "# }\n",
    "# I want to be able to pass a dictionary made from the API call .json() data into the __init__() of Pokemon class\n",
    "# and have the pokemon's attributes be filled out from there\n",
    "\n",
    "# let me lay out my skeleton code\n",
    "# pokemon object is gonna have the same attributes\n",
    "    # name=str, abilities=[], types=[], weight=int\n",
    "# pokemon object methods\n",
    "    # display that prints our pokemon's info nice and pretty prettily? fancy-lookin.\n",
    "\n",
    "# second class pokedex\n",
    "    # 1 attribute - the dictionary of all the pokemon\n",
    "    \n",
    "    # 3 methods\n",
    "        # 1 create pokemon -> take in a list of pokemon names, and fill up our objects/dictionary\n",
    "        # 2 display function - to show all the pokemon\n",
    "        # 3 searching function to display based on the pokemon type asked for\n",
    "        \n",
    "        \n",
    "        \n",
    "        \n",
    "# pokemon objects\n",
    "\n",
    "\n",
    "\n",
    "\n",
    "\n",
    "# pokedex objects\n",
    "\n",
    "\n",
    "\n",
    "\n"
   ]
  },
  {
   "cell_type": "code",
   "execution_count": null,
   "id": "5950b858",
   "metadata": {},
   "outputs": [],
   "source": [
    "# Driver Code"
   ]
  },
  {
   "cell_type": "code",
   "execution_count": 9,
   "id": "115f0039",
   "metadata": {},
   "outputs": [
    {
     "ename": "SyntaxError",
     "evalue": "invalid syntax (2150389988.py, line 20)",
     "output_type": "error",
     "traceback": [
      "\u001b[0;36m  File \u001b[0;32m\"/var/folders/_z/t91cwskx271gxms_015d7qq00000gn/T/ipykernel_33882/2150389988.py\"\u001b[0;36m, line \u001b[0;32m20\u001b[0m\n\u001b[0;31m    raid_achievement_timestamp = data[\"raid_achievement_curve\"][\"cutting_edge\"] 2021-08-04\u001b[0m\n\u001b[0m                                                                                ^\u001b[0m\n\u001b[0;31mSyntaxError\u001b[0m\u001b[0;31m:\u001b[0m invalid syntax\n"
     ]
    }
   ],
   "source": [
    "import requests, json\n",
    "class Character:\n",
    "    def __init__(self):\n",
    "        self.base_url = \"https://raider.io/api/v1/characters/profile?region=us&realm=Area52&name=Stickthrower&fields=guild%2Craid_progression%2Cmythic_plus_ranks%2Craid_achievement_curve%3Asanctum-of-domination\"\n",
    "    def _get(self, p_name):\n",
    "        res = requests.get(self.base_url)\n",
    "        if res.ok:\n",
    "            return res.json()\n",
    "        else:\n",
    "            print(\"There was an error.\")\n",
    "    def get_class(self, Class):\n",
    "        data = self._get(Class)\n",
    "        if not data:\n",
    "            return\n",
    "        active_specialization = data[\"active_spec_name\"]\n",
    "        active_role = data[\"dps\"]\n",
    "        guild: data[\"guild\"][\"name\"]\n",
    "        realm = data[\"realm\"]\n",
    "        mythic_plus_rank = data[\"mythic_plus_ranks\"][\"class\"][\"realm\"]\n",
    "        raid_achievement_timestamp = data[\"raid_achievement_curve\"][\"cutting_edge\"] 2021-08-04\n",
    "        print(\"f{Class.title()} {active_specialization} {active_role} {guild} {realm} {mythic_plus_rank} {raid_achievement_timestamp}\")\n",
    "\n",
    "\n",
    "class_info = Character()\n",
    "\n",
    "def pk():\n",
    "    while True:\n",
    "        try:\n",
    "            name = input(\"Choose a pokemon or none.\\n\").lower()\n",
    "            if name == \"none\":\n",
    "                break\n",
    "            pokemon_info.get_pokemon(name)\n",
    "        except:\n",
    "            print(\"This pokemon does not exist.\")\n",
    "    def _get(self, p_name):\n",
    "        res = requests.get(self.base_url + p_name.lower())\n",
    "        if res.ok:\n",
    "            return res.json()\n",
    "        else:\n",
    "            print(\"There was an error.\")\n",
    "    def get_pokemon(self, name):\n",
    "        data = self._get(name)\n",
    "        if not data:\n",
    "            return\n",
    "        display_height = data[\"height\"]\n",
    "        display_weight = data[\"weight\"]\n",
    "        print(f\"{name.title()} is {display_height} cm tall and weight {display_weight} pound.\")"
   ]
  },
  {
   "cell_type": "code",
   "execution_count": null,
   "id": "06b0256a",
   "metadata": {},
   "outputs": [],
   "source": []
  }
 ],
 "metadata": {
  "kernelspec": {
   "display_name": "Python 3 (ipykernel)",
   "language": "python",
   "name": "python3"
  },
  "language_info": {
   "codemirror_mode": {
    "name": "ipython",
    "version": 3
   },
   "file_extension": ".py",
   "mimetype": "text/x-python",
   "name": "python",
   "nbconvert_exporter": "python",
   "pygments_lexer": "ipython3",
   "version": "3.9.7"
  }
 },
 "nbformat": 4,
 "nbformat_minor": 5
}
